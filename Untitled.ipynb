{
 "cells": [
  {
   "cell_type": "code",
   "execution_count": 1,
   "id": "1f71b78e-5c4a-4ef5-b9b6-43276b6fb7e0",
   "metadata": {},
   "outputs": [],
   "source": [
    "import pandas as pd\n",
    "import numpy as np\n",
    "import vncorenlp\n",
    "from vncorenlp import VnCoreNLP\n",
    "import re"
   ]
  },
  {
   "cell_type": "code",
   "execution_count": 2,
   "id": "1e6d7bb8-b039-4f2a-844d-9fb3319a9dfe",
   "metadata": {},
   "outputs": [
    {
     "data": {
      "text/html": [
       "<div>\n",
       "<style scoped>\n",
       "    .dataframe tbody tr th:only-of-type {\n",
       "        vertical-align: middle;\n",
       "    }\n",
       "\n",
       "    .dataframe tbody tr th {\n",
       "        vertical-align: top;\n",
       "    }\n",
       "\n",
       "    .dataframe thead th {\n",
       "        text-align: right;\n",
       "    }\n",
       "</style>\n",
       "<table border=\"1\" class=\"dataframe\">\n",
       "  <thead>\n",
       "    <tr style=\"text-align: right;\">\n",
       "      <th></th>\n",
       "      <th>text</th>\n",
       "      <th>domain</th>\n",
       "      <th>label</th>\n",
       "    </tr>\n",
       "  </thead>\n",
       "  <tbody>\n",
       "    <tr>\n",
       "      <th>0</th>\n",
       "      <td>Thủ tướng Abe cúi đầu xin lỗi vì hành động phi...</td>\n",
       "      <td>binhluan.biz</td>\n",
       "      <td>1</td>\n",
       "    </tr>\n",
       "    <tr>\n",
       "      <th>1</th>\n",
       "      <td>Thủ tướng Nhật cúi đầu xin lỗi vì tinh thần ph...</td>\n",
       "      <td>www.ipick.vn</td>\n",
       "      <td>1</td>\n",
       "    </tr>\n",
       "    <tr>\n",
       "      <th>2</th>\n",
       "      <td>Choáng! Cơ trưởng đeo khăn quàng quẩy banh nóc...</td>\n",
       "      <td>tintucqpvn.net</td>\n",
       "      <td>1</td>\n",
       "    </tr>\n",
       "    <tr>\n",
       "      <th>3</th>\n",
       "      <td>Chưa bao giờ nhạc Kpop lại dễ hát đến thế!!!\\n...</td>\n",
       "      <td>tintucqpvn.net</td>\n",
       "      <td>1</td>\n",
       "    </tr>\n",
       "    <tr>\n",
       "      <th>4</th>\n",
       "      <td>Đại học Hutech sẽ áp dụng cải cách \"Tiếq Việt\"...</td>\n",
       "      <td>www.gioitreviet.net</td>\n",
       "      <td>1</td>\n",
       "    </tr>\n",
       "  </tbody>\n",
       "</table>\n",
       "</div>"
      ],
      "text/plain": [
       "                                                text               domain  \\\n",
       "0  Thủ tướng Abe cúi đầu xin lỗi vì hành động phi...         binhluan.biz   \n",
       "1  Thủ tướng Nhật cúi đầu xin lỗi vì tinh thần ph...         www.ipick.vn   \n",
       "2  Choáng! Cơ trưởng đeo khăn quàng quẩy banh nóc...       tintucqpvn.net   \n",
       "3  Chưa bao giờ nhạc Kpop lại dễ hát đến thế!!!\\n...       tintucqpvn.net   \n",
       "4  Đại học Hutech sẽ áp dụng cải cách \"Tiếq Việt\"...  www.gioitreviet.net   \n",
       "\n",
       "   label  \n",
       "0      1  \n",
       "1      1  \n",
       "2      1  \n",
       "3      1  \n",
       "4      1  "
      ]
     },
     "execution_count": 2,
     "metadata": {},
     "output_type": "execute_result"
    }
   ],
   "source": [
    "data=pd.read_csv(\"vn_news_223_tdlfr.csv\")\n",
    "data.head()"
   ]
  },
  {
   "cell_type": "code",
   "execution_count": 3,
   "id": "e7af8410-1ee6-4582-b6d2-94ff82a52d54",
   "metadata": {},
   "outputs": [],
   "source": [
    "f = open('stopwords.txt', 'r', encoding='UTF-8')\n",
    "stopwords = f.read().split('\\n')"
   ]
  },
  {
   "cell_type": "code",
   "execution_count": 4,
   "id": "9ef16775-1a73-4dec-9d22-646683515998",
   "metadata": {},
   "outputs": [
    {
     "data": {
      "text/plain": [
       "'thủ tướng abe cúi đầu xin lỗi vì hành động phi thể thao của tuyển nhật theo sankei sports sáng nay thủ tướng nhật bản shinzo abe công khai gửi lời xin lỗi tới nhật hoàng và toàn bộ người dân vì tinh thần thi đấu phi thể thao của đội tuyển nhật tại world cup 2018  tối qua sau lượt trận cuối vòng bảng world cup 2018 nhật bản có cùng chỉ số phụ như senegal đội bị loại sau khi thua colombia nhưng nhật bản vào vòng sau nhờ chỉ số fair-play vì nhận ít thẻ phạt hơn thủ tướng nhật bản shinzo abe cúi đầu xin lỗi  với tinh thần của những võ sĩ đạo samurai nhưng đội tuyển nhật bản đã có những hành động thiếu tinh thần thượng võ trong thi đấu tại world cup để lại nhiều chỉ trích và bất bình cho toàn dân làm mất hình ảnh kiên cường của người dân nhật bản trên đấu trường quốc tế là người đứng đầu tôi xin thành thật nhận trách nhiệm và gửi lời xin lỗi sâu sắc tới nhân dân ông abe cúi đầu nhận trách nhiệm về mình người nhật bản nổi tiếng về tinh thần trách nhiệm và chất võ sĩ đạo đó là lý do đội tuyển áo xanh được mệnh danh samurai xanh tuy nhiên nhật bản sau đó nhận chỉ trích dữ dội của người hâm mộ bóng đá vì lối chơi bóng tiêu cực cố tình câu giờ để dành tấm vé đi tiếp  cụ thể những phút cuối trận cuối vòng bảng gặp ba lan do biết ở trận cùng giờ colombia cũng đang thắng senegal với tỷ số 1-0 nên dù có đang bị dẫn trước với tỉ số tương tự các cầu thủ nhật bản cũng không hề muốn gỡ hòa các cầu thủ nhật vui vẻ sau trận thua ba lan 0-1 có vé vào vòng 16 đội  tại world cup 2018 fifa sẽ tính điểm fair play theo quy định 1 thẻ vàng -1 điểm 2 thẻ vàng thành thẻ đỏ -3 điểm thẻ đỏ trực tiếp -4 điểm nhật có 4 thẻ vàng còn senegal có đến 6  chính vì sợ lãnh thêm thẻ vàng nên nhật đã giết chết trận đấu trong những phút cuối họ liên tục chuyền bóng qua lại ở phần sân nhà thậm chí trong khoảng 5 phút cuối cầu thủ nhật bản còn không đưa bóng sang phần sân đối phương bất chấp sự la ó huýt sáo của các cđv trên sân điều này khiến thầy trò hlv akira nishino bị dư luận chỉ trích  với kết quả trên nhật bản và colombia là hai đội đi tiếp của bảng h ở vòng loại trực tiếp nhật bản sẽ phải đối đầu với đối thủ cực mạnh là đt bỉ trong khi đó đội cùng đi tiếp với nhật là colombia sẽ gặp đt anh '"
      ]
     },
     "execution_count": 4,
     "metadata": {},
     "output_type": "execute_result"
    }
   ],
   "source": [
    "data[\"text\"] = data[\"text\"].str.lower()\n",
    "data['text'] = data['text'].apply(lambda x: re.sub(r'http\\S+', '', x))\n",
    "data['text'] = data['text'].apply(lambda x: x.replace('\\n',' '))\n",
    "data['text'] = data['text'].apply(lambda x: re.sub('[^aàảãáạăằẳẵắặâầẩẫấậ b c dđeèẻẽéẹêềểễếệ f / g hiìỉĩíịjklmnoòỏõóọôồổỗốộơờởỡớợpqrstu \\- ùủũúụưừửữứựvwxyỳỷỹýỵz +[0-9]+', '', x))\n",
    "data.iloc[0,0]"
   ]
  },
  {
   "cell_type": "code",
   "execution_count": 5,
   "id": "222e3d08-28dd-46f8-ba48-333015b32dc2",
   "metadata": {},
   "outputs": [],
   "source": [
    "annotator = VnCoreNLP(\"VnCoreNLP-1.1.1.jar\", annotators=\"wseg,pos,ner,parse\", max_heap_size='-Xmx2g')"
   ]
  },
  {
   "cell_type": "code",
   "execution_count": 6,
   "id": "8edb193e-db58-4359-b6b0-9256d0891acf",
   "metadata": {},
   "outputs": [],
   "source": [
    "data['text']=data['text'].apply(annotator.tokenize)"
   ]
  },
  {
   "cell_type": "code",
   "execution_count": 7,
   "id": "2b7a2825-3610-48ae-b005-e7e25592ec2f",
   "metadata": {},
   "outputs": [],
   "source": [
    "def reduce_dim(x):\n",
    "    return x[0]\n",
    "data['text']=data['text'].apply(reduce_dim)"
   ]
  },
  {
   "cell_type": "code",
   "execution_count": 8,
   "id": "9f033839-0d32-47b1-bd7f-ff9a4c1fcc8a",
   "metadata": {},
   "outputs": [],
   "source": [
    "def remove_stopword(list_word):\n",
    "    clean_list = []\n",
    "    for i in range(len(list_word)):\n",
    "        temp=\"\"\n",
    "        temp1=\"\"\n",
    "        if i > 0 and i < (len(list_word)-1):\n",
    "            temp = str(list_word[i]) + \" \" + str(list_word[i+1])\n",
    "            temp1 = str(list_word[i-1]) + \" \" + str(list_word[i])\n",
    "        if list_word[i] not in stopwords and temp not in stopwords and temp1 not in stopwords:\n",
    "            clean_list.append(list_word[i])\n",
    "    return clean_list\n",
    "data['text'] = data['text'].apply(lambda x: remove_stopword(x))\n"
   ]
  },
  {
   "cell_type": "code",
   "execution_count": 9,
   "id": "9f46528c-4d29-4c54-99a3-abde5eafa95a",
   "metadata": {},
   "outputs": [
    {
     "data": {
      "text/plain": [
       "['thủ_tướng',\n",
       " 'nhật',\n",
       " 'cúi',\n",
       " 'đầu',\n",
       " 'xin_lỗi',\n",
       " 'tinh_thần',\n",
       " 'phi',\n",
       " 'thể_thao',\n",
       " 'đội',\n",
       " 'bóng',\n",
       " '19/6',\n",
       " 'thủ_tướng',\n",
       " 'nhật_bản',\n",
       " 'shinzo',\n",
       " 'abe',\n",
       " 'công_khai',\n",
       " 'gửi',\n",
       " 'xin_lỗi',\n",
       " 'nhật',\n",
       " 'hoàng',\n",
       " 'toàn_bộ',\n",
       " 'người_dân',\n",
       " 'tinh_thần',\n",
       " 'thi_đấu',\n",
       " 'phi',\n",
       " 'thể_thao',\n",
       " 'đội_tuyển',\n",
       " 'nhật',\n",
       " 'world_cup',\n",
       " '2018',\n",
       " 'tinh_thần',\n",
       " 'võ_sĩ_đạo',\n",
       " 'samurai',\n",
       " 'đội_tuyển',\n",
       " 'nhật_bản',\n",
       " 'hành_động',\n",
       " 'tinh_thần',\n",
       " 'thượng_võ',\n",
       " 'thi_đấu',\n",
       " 'world_cup',\n",
       " 'chỉ_trích',\n",
       " 'bất_bình',\n",
       " 'toàn',\n",
       " 'dân',\n",
       " 'hình_ảnh',\n",
       " 'kiên_cường',\n",
       " 'người_dân',\n",
       " 'nhật_bản',\n",
       " 'đấu_trường',\n",
       " 'quốc_tế',\n",
       " 'đứng',\n",
       " 'đầu',\n",
       " 'thành_thật',\n",
       " 'trách_nhiệm',\n",
       " 'gửi',\n",
       " 'xin_lỗi',\n",
       " 'sâu_sắc',\n",
       " 'nhân_dân',\n",
       " 'abe',\n",
       " 'cúi',\n",
       " 'đầu',\n",
       " 'trách_nhiệm',\n",
       " 'cảm_phục',\n",
       " 'hành_động',\n",
       " 'thủ_tướng',\n",
       " 'nhật',\n",
       " 'ý_thức',\n",
       " 'hình_ảnh',\n",
       " 'danh_dự',\n",
       " 'quốc_gia',\n",
       " 'nhật',\n",
       " 'thế_giới',\n",
       " 'tôn_trọng',\n",
       " 'kính_nể',\n",
       " 'cường_quốc',\n",
       " 'kinh_tế',\n",
       " 'cường_quốc',\n",
       " 'tự_trọng']"
      ]
     },
     "execution_count": 9,
     "metadata": {},
     "output_type": "execute_result"
    }
   ],
   "source": [
    "data.iloc[1,0]"
   ]
  },
  {
   "cell_type": "code",
   "execution_count": null,
   "id": "5e375da7-cb24-40f4-8a5a-d952137a99be",
   "metadata": {},
   "outputs": [],
   "source": []
  }
 ],
 "metadata": {
  "kernelspec": {
   "display_name": "Python 3 (ipykernel)",
   "language": "python",
   "name": "python3"
  },
  "language_info": {
   "codemirror_mode": {
    "name": "ipython",
    "version": 3
   },
   "file_extension": ".py",
   "mimetype": "text/x-python",
   "name": "python",
   "nbconvert_exporter": "python",
   "pygments_lexer": "ipython3",
   "version": "3.8.8"
  }
 },
 "nbformat": 4,
 "nbformat_minor": 5
}
