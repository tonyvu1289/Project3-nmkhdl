{
 "cells": [
  {
   "cell_type": "code",
   "execution_count": 1,
   "id": "2c204f64",
   "metadata": {},
   "outputs": [
    {
     "name": "stdout",
     "output_type": "stream",
     "text": [
      "Requirement already satisfied: vncorenlp in c:\\programdata\\miniconda3\\envs\\min_ds-env\\lib\\site-packages (1.0.3)\n",
      "Requirement already satisfied: requests in c:\\programdata\\miniconda3\\envs\\min_ds-env\\lib\\site-packages (from vncorenlp) (2.25.1)\n",
      "Requirement already satisfied: chardet<5,>=3.0.2 in c:\\programdata\\miniconda3\\envs\\min_ds-env\\lib\\site-packages (from requests->vncorenlp) (4.0.0)\n",
      "Requirement already satisfied: urllib3<1.27,>=1.21.1 in c:\\programdata\\miniconda3\\envs\\min_ds-env\\lib\\site-packages (from requests->vncorenlp) (1.26.7)\n",
      "Requirement already satisfied: idna<3,>=2.5 in c:\\programdata\\miniconda3\\envs\\min_ds-env\\lib\\site-packages (from requests->vncorenlp) (2.10)\n",
      "Requirement already satisfied: certifi>=2017.4.17 in c:\\programdata\\miniconda3\\envs\\min_ds-env\\lib\\site-packages (from requests->vncorenlp) (2021.5.30)\n"
     ]
    }
   ],
   "source": [
    "#!pip install vncorenlp"
   ]
  },
  {
   "cell_type": "code",
   "execution_count": 2,
   "id": "d13d4a3d",
   "metadata": {},
   "outputs": [
    {
     "name": "stdout",
     "output_type": "stream",
     "text": [
      "Requirement already satisfied: wordcloud in c:\\programdata\\miniconda3\\envs\\min_ds-env\\lib\\site-packages (1.8.1)\n",
      "Requirement already satisfied: matplotlib in c:\\programdata\\miniconda3\\envs\\min_ds-env\\lib\\site-packages (from wordcloud) (3.4.1)\n",
      "Requirement already satisfied: numpy>=1.6.1 in c:\\programdata\\miniconda3\\envs\\min_ds-env\\lib\\site-packages (from wordcloud) (1.20.2)\n",
      "Requirement already satisfied: pillow in c:\\programdata\\miniconda3\\envs\\min_ds-env\\lib\\site-packages (from wordcloud) (8.3.2)\n",
      "Requirement already satisfied: kiwisolver>=1.0.1 in c:\\programdata\\miniconda3\\envs\\min_ds-env\\lib\\site-packages (from matplotlib->wordcloud) (1.3.2)\n",
      "Requirement already satisfied: pyparsing>=2.2.1 in c:\\programdata\\miniconda3\\envs\\min_ds-env\\lib\\site-packages (from matplotlib->wordcloud) (2.4.7)\n",
      "Requirement already satisfied: python-dateutil>=2.7 in c:\\programdata\\miniconda3\\envs\\min_ds-env\\lib\\site-packages (from matplotlib->wordcloud) (2.8.2)\n",
      "Requirement already satisfied: cycler>=0.10 in c:\\programdata\\miniconda3\\envs\\min_ds-env\\lib\\site-packages (from matplotlib->wordcloud) (0.10.0)\n",
      "Requirement already satisfied: six in c:\\programdata\\miniconda3\\envs\\min_ds-env\\lib\\site-packages (from cycler>=0.10->matplotlib->wordcloud) (1.16.0)\n"
     ]
    }
   ],
   "source": [
    "#!pip install wordcloud"
   ]
  },
  {
   "cell_type": "code",
   "execution_count": 3,
   "id": "1e0c9652",
   "metadata": {},
   "outputs": [
    {
     "name": "stdout",
     "output_type": "stream",
     "text": [
      "Requirement already satisfied: nltk in c:\\programdata\\miniconda3\\envs\\min_ds-env\\lib\\site-packages (3.6.7)\n",
      "Requirement already satisfied: joblib in c:\\programdata\\miniconda3\\envs\\min_ds-env\\lib\\site-packages (from nltk) (1.1.0)\n",
      "Requirement already satisfied: tqdm in c:\\programdata\\miniconda3\\envs\\min_ds-env\\lib\\site-packages (from nltk) (4.62.3)\n",
      "Requirement already satisfied: regex>=2021.8.3 in c:\\programdata\\miniconda3\\envs\\min_ds-env\\lib\\site-packages (from nltk) (2021.11.10)\n",
      "Requirement already satisfied: click in c:\\programdata\\miniconda3\\envs\\min_ds-env\\lib\\site-packages (from nltk) (8.0.3)\n",
      "Requirement already satisfied: colorama in c:\\programdata\\miniconda3\\envs\\min_ds-env\\lib\\site-packages (from click->nltk) (0.4.4)\n"
     ]
    }
   ],
   "source": [
    "#!pip install nltk"
   ]
  },
  {
   "cell_type": "code",
   "execution_count": 4,
   "id": "1f71b78e-5c4a-4ef5-b9b6-43276b6fb7e0",
   "metadata": {},
   "outputs": [],
   "source": [
    "import pandas as pd\n",
    "import numpy as np\n",
    "import vncorenlp\n",
    "from vncorenlp import VnCoreNLP\n",
    "import re\n",
    "import matplotlib.pyplot as plt\n",
    "import seaborn as sns\n",
    "import wordcloud\n",
    "from wordcloud import WordCloud\n",
    "import nltk\n",
    "from nltk import tokenize"
   ]
  },
  {
   "cell_type": "code",
   "execution_count": 5,
   "id": "1e6d7bb8-b039-4f2a-844d-9fb3319a9dfe",
   "metadata": {},
   "outputs": [
    {
     "data": {
      "text/html": [
       "<div>\n",
       "<style scoped>\n",
       "    .dataframe tbody tr th:only-of-type {\n",
       "        vertical-align: middle;\n",
       "    }\n",
       "\n",
       "    .dataframe tbody tr th {\n",
       "        vertical-align: top;\n",
       "    }\n",
       "\n",
       "    .dataframe thead th {\n",
       "        text-align: right;\n",
       "    }\n",
       "</style>\n",
       "<table border=\"1\" class=\"dataframe\">\n",
       "  <thead>\n",
       "    <tr style=\"text-align: right;\">\n",
       "      <th></th>\n",
       "      <th>text</th>\n",
       "      <th>domain</th>\n",
       "      <th>label</th>\n",
       "    </tr>\n",
       "  </thead>\n",
       "  <tbody>\n",
       "    <tr>\n",
       "      <th>0</th>\n",
       "      <td>Thủ tướng Abe cúi đầu xin lỗi vì hành động phi...</td>\n",
       "      <td>binhluan.biz</td>\n",
       "      <td>1</td>\n",
       "    </tr>\n",
       "    <tr>\n",
       "      <th>1</th>\n",
       "      <td>Thủ tướng Nhật cúi đầu xin lỗi vì tinh thần ph...</td>\n",
       "      <td>www.ipick.vn</td>\n",
       "      <td>1</td>\n",
       "    </tr>\n",
       "    <tr>\n",
       "      <th>2</th>\n",
       "      <td>Choáng! Cơ trưởng đeo khăn quàng quẩy banh nóc...</td>\n",
       "      <td>tintucqpvn.net</td>\n",
       "      <td>1</td>\n",
       "    </tr>\n",
       "    <tr>\n",
       "      <th>3</th>\n",
       "      <td>Chưa bao giờ nhạc Kpop lại dễ hát đến thế!!!\\r...</td>\n",
       "      <td>tintucqpvn.net</td>\n",
       "      <td>1</td>\n",
       "    </tr>\n",
       "    <tr>\n",
       "      <th>4</th>\n",
       "      <td>Đại học Hutech sẽ áp dụng cải cách \"Tiếq Việt\"...</td>\n",
       "      <td>www.gioitreviet.net</td>\n",
       "      <td>1</td>\n",
       "    </tr>\n",
       "  </tbody>\n",
       "</table>\n",
       "</div>"
      ],
      "text/plain": [
       "                                                text               domain  \\\n",
       "0  Thủ tướng Abe cúi đầu xin lỗi vì hành động phi...         binhluan.biz   \n",
       "1  Thủ tướng Nhật cúi đầu xin lỗi vì tinh thần ph...         www.ipick.vn   \n",
       "2  Choáng! Cơ trưởng đeo khăn quàng quẩy banh nóc...       tintucqpvn.net   \n",
       "3  Chưa bao giờ nhạc Kpop lại dễ hát đến thế!!!\\r...       tintucqpvn.net   \n",
       "4  Đại học Hutech sẽ áp dụng cải cách \"Tiếq Việt\"...  www.gioitreviet.net   \n",
       "\n",
       "   label  \n",
       "0      1  \n",
       "1      1  \n",
       "2      1  \n",
       "3      1  \n",
       "4      1  "
      ]
     },
     "execution_count": 5,
     "metadata": {},
     "output_type": "execute_result"
    }
   ],
   "source": [
    "data=pd.read_csv(\"vn_news_223_tdlfr.csv\")\n",
    "data.head()"
   ]
  },
  {
   "cell_type": "code",
   "execution_count": 6,
   "id": "e7af8410-1ee6-4582-b6d2-94ff82a52d54",
   "metadata": {},
   "outputs": [],
   "source": [
    "f = open('stopwords.txt', 'r', encoding='UTF-8')\n",
    "stopwords = f.read().split('\\n')"
   ]
  },
  {
   "cell_type": "code",
   "execution_count": 7,
   "id": "9ef16775-1a73-4dec-9d22-646683515998",
   "metadata": {},
   "outputs": [
    {
     "data": {
      "text/plain": [
       "'thủ tướng abe cúi đầu xin lỗi vì hành động phi thể thao của tuyển nhật theo sankei sports sáng nay thủ tướng nhật bản shinzo abe công khai gửi lời xin lỗi tới nhật hoàng và toàn bộ người dân vì tinh thần thi đấu phi thể thao của đội tuyển nhật tại world cup 2018  tối qua sau lượt trận cuối vòng bảng world cup 2018 nhật bản có cùng chỉ số phụ như senegal đội bị loại sau khi thua colombia nhưng nhật bản vào vòng sau nhờ chỉ số fairplay vì nhận ít thẻ phạt hơn thủ tướng nhật bản shinzo abe cúi đầu xin lỗi  với tinh thần của những võ sĩ đạo samurai nhưng đội tuyển nhật bản đã có những hành động thiếu tinh thần thượng võ trong thi đấu tại world cup để lại nhiều chỉ trích và bất bình cho toàn dân làm mất hình ảnh kiên cường của người dân nhật bản trên đấu trường quốc tế là người đứng đầu tôi xin thành thật nhận trách nhiệm và gửi lời xin lỗi sâu sắc tới nhân dân ông abe cúi đầu nhận trách nhiệm về mình người nhật bản nổi tiếng về tinh thần trách nhiệm và chất võ sĩ đạo đó là lý do đội tuyển áo xanh được mệnh danh samurai xanh tuy nhiên nhật bản sau đó nhận chỉ trích dữ dội của người hâm mộ bóng đá vì lối chơi bóng tiêu cực cố tình câu giờ để dành tấm vé đi tiếp  cụ thể những phút cuối trận cuối vòng bảng gặp ba lan do biết ở trận cùng giờ colombia cũng đang thắng senegal với tỷ số 10 nên dù có đang bị dẫn trước với tỉ số tương tự các cầu thủ nhật bản cũng không hề muốn gỡ hòa các cầu thủ nhật vui vẻ sau trận thua ba lan 01 có vé vào vòng 16 đội  tại world cup 2018 fifa sẽ tính điểm fair play theo quy định 1 thẻ vàng 1 điểm 2 thẻ vàng thành thẻ đỏ 3 điểm thẻ đỏ trực tiếp 4 điểm nhật có 4 thẻ vàng còn senegal có đến 6  chính vì sợ lãnh thêm thẻ vàng nên nhật đã giết chết trận đấu trong những phút cuối họ liên tục chuyền bóng qua lại ở phần sân nhà thậm chí trong khoảng 5 phút cuối cầu thủ nhật bản còn không đưa bóng sang phần sân đối phương bất chấp sự la ó huýt sáo của các cđv trên sân điều này khiến thầy trò hlv akira nishino bị dư luận chỉ trích  với kết quả trên nhật bản và colombia là hai đội đi tiếp của bảng h ở vòng loại trực tiếp nhật bản sẽ phải đối đầu với đối thủ cực mạnh là đt bỉ trong khi đó đội cùng đi tiếp với nhật là colombia sẽ gặp đt anh '"
      ]
     },
     "execution_count": 7,
     "metadata": {},
     "output_type": "execute_result"
    }
   ],
   "source": [
    "data[\"text\"] = data[\"text\"].str.lower()\n",
    "data['text'] = data['text'].apply(lambda x: re.sub(r'http\\S+', '', x))\n",
    "data['text'] = data['text'].apply(lambda x: x.replace('\\n',' '))\n",
    "data['text'] = data['text'].apply(lambda x: re.sub('[^aàảãáạăằẳẵắặâầẩẫấậ b c dđeèẻẽéẹêềểễếệ f / g hiìỉĩíịjklmnoòỏõóọôồổỗốộơờởỡớợpqrstu ùủũúụưừửữứựvwxyỳỷỹýỵz +[0-9]+', '', x))\n",
    "data.iloc[0,0]"
   ]
  },
  {
   "cell_type": "code",
   "execution_count": 8,
   "id": "222e3d08-28dd-46f8-ba48-333015b32dc2",
   "metadata": {},
   "outputs": [],
   "source": [
    "annotator = VnCoreNLP(\"VnCoreNLP-1.1.1.jar\", annotators=\"wseg,pos,ner,parse\", max_heap_size='-Xmx2g')"
   ]
  },
  {
   "cell_type": "code",
   "execution_count": 9,
   "id": "8edb193e-db58-4359-b6b0-9256d0891acf",
   "metadata": {},
   "outputs": [],
   "source": [
    "data['text']=data['text'].apply(annotator.tokenize)"
   ]
  },
  {
   "cell_type": "code",
   "execution_count": 10,
   "id": "2b7a2825-3610-48ae-b005-e7e25592ec2f",
   "metadata": {},
   "outputs": [],
   "source": [
    "def reduce_dim(x):\n",
    "    return x[0]\n",
    "data['text']=data['text'].apply(reduce_dim)"
   ]
  },
  {
   "cell_type": "code",
   "execution_count": 11,
   "id": "9f033839-0d32-47b1-bd7f-ff9a4c1fcc8a",
   "metadata": {},
   "outputs": [],
   "source": [
    "def remove_stopword(list_word):\n",
    "    clean_list = []\n",
    "    for i in range(len(list_word)):\n",
    "        temp=\"\"\n",
    "        temp1=\"\"\n",
    "        if i > 0 and i < (len(list_word)-1):\n",
    "            temp = str(list_word[i]) + \" \" + str(list_word[i+1])\n",
    "            temp1 = str(list_word[i-1]) + \" \" + str(list_word[i])\n",
    "        if list_word[i] not in stopwords and temp not in stopwords and temp1 not in stopwords:\n",
    "            clean_list.append(list_word[i])\n",
    "    return clean_list\n",
    "data['text'] = data['text'].apply(lambda x: remove_stopword(x))\n"
   ]
  },
  {
   "cell_type": "code",
   "execution_count": 12,
   "id": "9f46528c-4d29-4c54-99a3-abde5eafa95a",
   "metadata": {},
   "outputs": [
    {
     "data": {
      "text/plain": [
       "['thủ_tướng',\n",
       " 'nhật',\n",
       " 'cúi',\n",
       " 'đầu',\n",
       " 'xin_lỗi',\n",
       " 'tinh_thần',\n",
       " 'phi',\n",
       " 'thể_thao',\n",
       " 'đội',\n",
       " 'bóng',\n",
       " '19/6',\n",
       " 'thủ_tướng',\n",
       " 'nhật_bản',\n",
       " 'shinzo',\n",
       " 'abe',\n",
       " 'công_khai',\n",
       " 'gửi',\n",
       " 'xin_lỗi',\n",
       " 'nhật',\n",
       " 'hoàng',\n",
       " 'toàn_bộ',\n",
       " 'người_dân',\n",
       " 'tinh_thần',\n",
       " 'thi_đấu',\n",
       " 'phi',\n",
       " 'thể_thao',\n",
       " 'đội_tuyển',\n",
       " 'nhật',\n",
       " 'world_cup',\n",
       " '2018',\n",
       " 'tinh_thần',\n",
       " 'võ_sĩ_đạo',\n",
       " 'samurai',\n",
       " 'đội_tuyển',\n",
       " 'nhật_bản',\n",
       " 'hành_động',\n",
       " 'tinh_thần',\n",
       " 'thượng_võ',\n",
       " 'thi_đấu',\n",
       " 'world_cup',\n",
       " 'chỉ_trích',\n",
       " 'bất_bình',\n",
       " 'toàn',\n",
       " 'dân',\n",
       " 'hình_ảnh',\n",
       " 'kiên_cường',\n",
       " 'người_dân',\n",
       " 'nhật_bản',\n",
       " 'đấu_trường',\n",
       " 'quốc_tế',\n",
       " 'đứng',\n",
       " 'đầu',\n",
       " 'thành_thật',\n",
       " 'trách_nhiệm',\n",
       " 'gửi',\n",
       " 'xin_lỗi',\n",
       " 'sâu_sắc',\n",
       " 'nhân_dân',\n",
       " 'abe',\n",
       " 'cúi',\n",
       " 'đầu',\n",
       " 'trách_nhiệm',\n",
       " 'cảm_phục',\n",
       " 'hành_động',\n",
       " 'thủ_tướng',\n",
       " 'nhật',\n",
       " 'ý_thức',\n",
       " 'hình_ảnh',\n",
       " 'danh_dự',\n",
       " 'quốc_gia',\n",
       " 'nhật',\n",
       " 'thế_giới',\n",
       " 'tôn_trọng',\n",
       " 'kính_nể',\n",
       " 'cường_quốc',\n",
       " 'kinh_tế',\n",
       " 'cường_quốc',\n",
       " 'tự_trọng']"
      ]
     },
     "execution_count": 12,
     "metadata": {},
     "output_type": "execute_result"
    }
   ],
   "source": [
    "data.iloc[1,0]"
   ]
  },
  {
   "cell_type": "markdown",
   "id": "107d2944",
   "metadata": {},
   "source": [
    "# Khám phá dữ liệu"
   ]
  },
  {
   "cell_type": "markdown",
   "id": "94e61339",
   "metadata": {},
   "source": [
    "## Dữ liệu có bị thiếu không ? Có cột nào sai kiểu dữ liệu không ? "
   ]
  },
  {
   "cell_type": "code",
   "execution_count": 13,
   "id": "7819a231",
   "metadata": {},
   "outputs": [
    {
     "data": {
      "text/plain": [
       "False"
      ]
     },
     "execution_count": 13,
     "metadata": {},
     "output_type": "execute_result"
    }
   ],
   "source": [
    "data.isnull().values.any()\n",
    "#data.dropna()"
   ]
  },
  {
   "cell_type": "markdown",
   "id": "5f306133",
   "metadata": {},
   "source": [
    "Vậy là dữ liệu không có giá trị thiếu"
   ]
  },
  {
   "cell_type": "code",
   "execution_count": 14,
   "id": "2c1af794",
   "metadata": {},
   "outputs": [
    {
     "data": {
      "text/plain": [
       "text      object\n",
       "domain    object\n",
       "label      int64\n",
       "dtype: object"
      ]
     },
     "execution_count": 14,
     "metadata": {},
     "output_type": "execute_result"
    }
   ],
   "source": [
    "data.dtypes"
   ]
  },
  {
   "cell_type": "markdown",
   "id": "05db6375",
   "metadata": {},
   "source": [
    "Các cột dữ liệu đều có giá trị đúng"
   ]
  },
  {
   "cell_type": "markdown",
   "id": "98e4f8af",
   "metadata": {},
   "source": [
    "## Các text có kích thước như thế nào ?"
   ]
  },
  {
   "cell_type": "markdown",
   "id": "6f16957e",
   "metadata": {},
   "source": [
    "### Mô tả kích thước"
   ]
  },
  {
   "cell_type": "code",
   "execution_count": 15,
   "id": "22c68ea1",
   "metadata": {},
   "outputs": [
    {
     "data": {
      "text/plain": [
       "count     223.000000\n",
       "mean     2312.116592\n",
       "std      1540.242263\n",
       "min       251.000000\n",
       "25%      1186.000000\n",
       "50%      1844.000000\n",
       "75%      2994.000000\n",
       "max      8494.000000\n",
       "Name: text_length, dtype: float64"
      ]
     },
     "execution_count": 15,
     "metadata": {},
     "output_type": "execute_result"
    }
   ],
   "source": [
    "copy_data = data\n",
    "copy_data['text_length'] = [len(str(a)) for a in copy_data['text']]\n",
    "copy_data['text_length'].describe()"
   ]
  },
  {
   "cell_type": "markdown",
   "id": "3b5f36d0",
   "metadata": {},
   "source": [
    "### Kích thước trung bình của mỗi text"
   ]
  },
  {
   "cell_type": "code",
   "execution_count": 16,
   "id": "38723b4d",
   "metadata": {},
   "outputs": [
    {
     "data": {
      "text/plain": [
       "2312.116591928251"
      ]
     },
     "execution_count": 16,
     "metadata": {},
     "output_type": "execute_result"
    }
   ],
   "source": [
    "copy_data['text_length'].mean()"
   ]
  },
  {
   "cell_type": "markdown",
   "id": "ae3c8cc4",
   "metadata": {},
   "source": [
    "## Mỗi miền báo có bao nhiêu bài viết ?"
   ]
  },
  {
   "cell_type": "markdown",
   "id": "76e81d68",
   "metadata": {},
   "source": [
    "### Ta có thể in ra số lượng text của từng domain"
   ]
  },
  {
   "cell_type": "code",
   "execution_count": 17,
   "id": "b5ca860d",
   "metadata": {},
   "outputs": [
    {
     "data": {
      "text/plain": [
       "domain\n",
       "vnexpress.net              73\n",
       "tinvn.info                 68\n",
       "dantri.com.vn              14\n",
       "thethao.tuoitre.vn         10\n",
       "thoibao.today               6\n",
       "news.zing.vn                6\n",
       "tuoitre.vn                  5\n",
       "tintucqpvn.net              5\n",
       "thanhnien.vn                5\n",
       "kinhdoanh.vnexpress.net     3\n",
       "phapluat.news               3\n",
       "thegioitre.vn               2\n",
       "giaitri.vnexpress.net       2\n",
       "giadinhtiepthi.com          2\n",
       "doisong.vnexpress.net       2\n",
       "thoibao.de                  2\n",
       "www.ipick.vn                2\n",
       "www.gioitreviet.net         1\n",
       "autoxe.net                  1\n",
       "sohoa.vnexpress.net         1\n",
       "suckhoe.vnexpress.net       1\n",
       "sorry.vn                    1\n",
       "baoangiang.com.vn           1\n",
       "laodong.vn                  1\n",
       "https://news.zing.vn        1\n",
       "haiduong.tintuc.vn          1\n",
       "dulich.vnexpress.net        1\n",
       "binhluan.biz                1\n",
       "baonuocmy.com               1\n",
       "www.vietgiaitri.com/        1\n",
       "Name: text, dtype: int64"
      ]
     },
     "execution_count": 17,
     "metadata": {},
     "output_type": "execute_result"
    }
   ],
   "source": [
    "domain_count = data.groupby(['domain'])['text'].count()\n",
    "domain_count = domain_count.sort_values(ascending=False,)\n",
    "domain_count"
   ]
  },
  {
   "cell_type": "markdown",
   "id": "9185fcf7",
   "metadata": {},
   "source": [
    "### Miền báo có nhiều bài nhất"
   ]
  },
  {
   "cell_type": "code",
   "execution_count": 18,
   "id": "0c5b8688",
   "metadata": {},
   "outputs": [
    {
     "name": "stdout",
     "output_type": "stream",
     "text": [
      "Miền báo có nhiều bài nhất:\n"
     ]
    },
    {
     "data": {
      "text/plain": [
       "'vnexpress.net'"
      ]
     },
     "execution_count": 18,
     "metadata": {},
     "output_type": "execute_result"
    }
   ],
   "source": [
    "print(\"Miền báo có nhiều bài nhất:\")\n",
    "domain_count.idxmax()"
   ]
  },
  {
   "cell_type": "markdown",
   "id": "b7e0bf48",
   "metadata": {},
   "source": [
    "### Hmm, sử dụng biểu đồ bar chart để nhìn tổng quát hơn"
   ]
  },
  {
   "cell_type": "code",
   "execution_count": 19,
   "id": "9c153733",
   "metadata": {},
   "outputs": [
    {
     "data": {
      "image/png": "[encoded data removed]",
      "text/plain": [
       "<Figure size 720x576 with 1 Axes>"
      ]
     },
     "metadata": {
      "needs_background": "light"
     },
     "output_type": "display_data"
    }
   ],
   "source": [
    "domain_count.plot(kind=\"barh\", color = \"green\", figsize = (10,8))\n",
    "plt.xlabel(\"Number of texts\")\n",
    "plt.ylabel(\"Domain\")\n",
    "plt.show()"
   ]
  },
  {
   "cell_type": "markdown",
   "id": "725c9525",
   "metadata": {},
   "source": [
    "## Tin giả và tin thật"
   ]
  },
  {
   "cell_type": "markdown",
   "id": "c34a16cc",
   "metadata": {},
   "source": [
    "### Ta có thể in ra số lượng tin giả ( ứng với 1) và tin thật ( ứng với 0)"
   ]
  },
  {
   "cell_type": "code",
   "execution_count": 20,
   "id": "6867ba2a",
   "metadata": {},
   "outputs": [
    {
     "data": {
      "text/plain": [
       "label\n",
       "0    123\n",
       "1    100\n",
       "Name: text, dtype: int64"
      ]
     },
     "execution_count": 20,
     "metadata": {},
     "output_type": "execute_result"
    }
   ],
   "source": [
    "label_count = data.groupby(['label'])['text'].count()\n",
    "label_count"
   ]
  },
  {
   "cell_type": "markdown",
   "id": "350fd086",
   "metadata": {},
   "source": [
    "### Một vài biểu đồ "
   ]
  },
  {
   "cell_type": "code",
   "execution_count": 21,
   "id": "450bc3d2",
   "metadata": {},
   "outputs": [
    {
     "data": {
      "image/png": "[encoded data removed]",
      "text/plain": [
       "<Figure size 432x288 with 1 Axes>"
      ]
     },
     "metadata": {
      "needs_background": "light"
     },
     "output_type": "display_data"
    }
   ],
   "source": [
    "label_count.plot(kind=\"bar\")\n",
    "plt.xlabel(\"Label\")\n",
    "plt.ylabel(\"Number of labels\")\n",
    "plt.show()"
   ]
  },
  {
   "cell_type": "code",
   "execution_count": 23,
   "id": "b85fb4a8",
   "metadata": {},
   "outputs": [
    {
     "data": {
      "image/png": "[encoded data removed]",
      "text/plain": [
       "<Figure size 1008x432 with 1 Axes>"
      ]
     },
     "metadata": {},
     "output_type": "display_data"
    }
   ],
   "source": [
    "explode_list=[0,0.02]\n",
    "label_count.plot(kind='pie',figsize=(14,6),autopct=\"%1.1f%%\", startangle=90, labels=None, pctdistance=1.1\n",
    "                            , explode=explode_list, colors = sns.color_palette('bright')[0:2])\n",
    "plt.title(\"Ratio about Fake texts and True texts (1 - Fake and 0 - True)\")\n",
    "plt.axis('equal')\n",
    "plt.legend(labels = label_count.index, loc='upper left');"
   ]
  },
  {
   "cell_type": "markdown",
   "id": "df2f7425",
   "metadata": {},
   "source": [
    "Tuy có vẻ chênh lệch không nhiều nhưng tin thật vẫn có số lượng lớn hơn tin giả.\n",
    "\n",
    "Mật độ của tin giả và tin thật khá đều nhau.\n",
    "\n",
    "(còn phần sau của khám phá dl đang fix up sau nha :3)"
   ]
  },
  {
   "cell_type": "code",
   "execution_count": null,
   "id": "6956a985",
   "metadata": {},
   "outputs": [],
   "source": []
  }
 ],
 "metadata": {
  "kernelspec": {
   "display_name": "Python 3 (ipykernel)",
   "language": "python",
   "name": "python3"
  },
  "language_info": {
   "codemirror_mode": {
    "name": "ipython",
    "version": 3
   },
   "file_extension": ".py",
   "mimetype": "text/x-python",
   "name": "python",
   "nbconvert_exporter": "python",
   "pygments_lexer": "ipython3",
   "version": "3.8.8"
  }
 },
 "nbformat": 4,
 "nbformat_minor": 5
}
