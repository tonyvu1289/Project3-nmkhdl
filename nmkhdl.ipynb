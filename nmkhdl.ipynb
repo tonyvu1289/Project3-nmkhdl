{
  "nbformat": 4,
  "nbformat_minor": 0,
  "metadata": {
    "colab": {
      "name": "nmkhdl.ipynb",
      "provenance": [],
      "collapsed_sections": [],
      "include_colab_link": true
    },
    "kernelspec": {
      "name": "python3",
      "display_name": "Python 3"
    },
    "language_info": {
      "name": "python"
    }
  },
  "cells": [
    {
      "cell_type": "markdown",
      "metadata": {
        "id": "view-in-github",
        "colab_type": "text"
      },
      "source": [
        "<a href=\"https://colab.research.google.com/github/tonyvu1289/Project3-nmkhdl/blob/main/nmkhdl.ipynb\" target=\"_parent\"><img src=\"https://colab.research.google.com/assets/colab-badge.svg\" alt=\"Open In Colab\"/></a>"
      ]
    },
    {
      "cell_type": "code",
      "source": [
        "import pandas as pd\n",
        "import numpy as np\n",
        "import vncorenlp\n",
        "from vncorenlp import VnCoreNLP\n",
        "import re"
      ],
      "metadata": {
        "colab": {
          "base_uri": "https://localhost:8080/"
        },
        "id": "8CVmWCdAb1IB",
        "outputId": "1801cc55-436e-4683-9111-b00ef3b623be"
      },
      "execution_count": null,
      "outputs": [
        {
          "output_type": "stream",
          "name": "stdout",
          "text": [
            "123check\n"
          ]
        }
      ]
    },
    {
      "cell_type": "code",
      "source": [
        "data=pd.read_csv(\"vn_news_223_tdlfr.csv\")\n",
        "data.head()"
      ],
      "metadata": {
        "id": "sgsItmo4fz8r"
      },
      "execution_count": null,
      "outputs": []
    },
    {
      "cell_type": "code",
      "source": [
        "f = open('stopwords.txt', 'r', encoding='UTF-8')\n",
        "stopwords = f.read().split('\\n')"
      ],
      "metadata": {
        "id": "5QUieRPMf0ns"
      },
      "execution_count": null,
      "outputs": []
    },
    {
      "cell_type": "code",
      "source": [
        "data[\"text\"] = data[\"text\"].str.lower()\n",
        "data['text'] = data['text'].apply(lambda x: re.sub(r'http\\S+', '', x))\n",
        "data['text'] = data['text'].apply(lambda x: x.replace('\\n',' '))\n",
        "data['text'] = data['text'].apply(lambda x: re.sub('[^aàảãáạăằẳẵắặâầẩẫấậ b c dđeèẻẽéẹêềểễếệ f / g hiìỉĩíịjklmnoòỏõóọôồổỗốộơờởỡớợpqrstu \\- ùủũúụưừửữứựvwxyỳỷỹýỵz +[0-9]+', '', x))\n",
        "data.iloc[0,0]"
      ],
      "metadata": {
        "id": "-esfhqVSf3QP"
      },
      "execution_count": null,
      "outputs": []
    },
    {
      "cell_type": "code",
      "source": [
        "annotator = VnCoreNLP(\"VnCoreNLP-1.1.1.jar\", annotators=\"wseg,pos,ner,parse\", max_heap_size='-Xmx2g')"
      ],
      "metadata": {
        "id": "Sb99Gnsjf5U5"
      },
      "execution_count": null,
      "outputs": []
    },
    {
      "cell_type": "code",
      "source": [
        "data['text']=data['text'].apply(annotator.tokenize)"
      ],
      "metadata": {
        "id": "qInDAPJJf7t5"
      },
      "execution_count": null,
      "outputs": []
    },
    {
      "cell_type": "code",
      "source": [
        "def reduce_dim(x):\n",
        "    return x[0]\n",
        "data['text']=data['text'].apply(reduce_dim)"
      ],
      "metadata": {
        "id": "m3Uf0JJFf8ml"
      },
      "execution_count": null,
      "outputs": []
    },
    {
      "cell_type": "code",
      "source": [
        "def remove_stopword(list_word):\n",
        "    clean_list = []\n",
        "    for i in range(len(list_word)):\n",
        "        temp=\"\"\n",
        "        temp1=\"\"\n",
        "        if i > 0 and i < (len(list_word)-1):\n",
        "            temp = str(list_word[i]) + \" \" + str(list_word[i+1])\n",
        "            temp1 = str(list_word[i-1]) + \" \" + str(list_word[i])\n",
        "        if list_word[i] not in stopwords and temp not in stopwords and temp1 not in stopwords:\n",
        "            clean_list.append(list_word[i])\n",
        "    return clean_list\n",
        "data['text'] = data['text'].apply(lambda x: remove_stopword(x))"
      ],
      "metadata": {
        "id": "yUIhl-gaf-Zx"
      },
      "execution_count": null,
      "outputs": []
    },
    {
      "cell_type": "code",
      "source": [
        "data.iloc[1,0]"
      ],
      "metadata": {
        "id": "Pg2usjffgBY_"
      },
      "execution_count": null,
      "outputs": []
    },
    {
      "cell_type": "markdown",
      "source": [
        "Có cần ghi tên thành viên đầu bài hok ta?"
      ],
      "metadata": {
        "id": "UCM_ODQachA9"
      }
    }
  ]
}