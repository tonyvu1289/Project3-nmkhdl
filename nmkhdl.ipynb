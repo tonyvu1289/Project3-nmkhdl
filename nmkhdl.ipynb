{
 "cells": [
  {
   "cell_type": "markdown",
   "metadata": {
    "colab_type": "text",
    "id": "view-in-github"
   },
   "source": [
    "<a href=\"https://colab.research.google.com/github/tonyvu1289/Project3-nmkhdl/blob/main/nmkhdl.ipynb\" target=\"_parent\"><img src=\"https://colab.research.google.com/assets/colab-badge.svg\" alt=\"Open In Colab\"/></a>"
   ]
  },
  {
   "cell_type": "markdown",
   "metadata": {},
   "source": [
    "# Import các thư viện cần thiết"
   ]
  },
  {
   "cell_type": "code",
   "execution_count": 3,
   "metadata": {
    "colab": {
     "base_uri": "https://localhost:8080/"
    },
    "id": "8CVmWCdAb1IB",
    "outputId": "1801cc55-436e-4683-9111-b00ef3b623be"
   },
   "outputs": [],
   "source": [
    "import pandas as pd\n",
    "import numpy as np\n",
    "import vncorenlp\n",
    "from vncorenlp import VnCoreNLP\n",
    "import re\n",
    "import seaborn\n",
    "import copy\n",
    "import pickle\n",
    "from sklearn.pipeline import make_pipeline\n",
    "from sklearn.model_selection import train_test_split\n",
    "from sklearn.metrics import accuracy_score\n",
    "from sklearn.feature_extraction.text import CountVectorizer\n",
    "from sklearn.linear_model import LogisticRegression\n",
    "import sklearn.ensemble\n",
    "import sklearn.naive_bayes\n",
    "import sklearn.svm\n",
    "from sklearn.metrics import confusion_matrix\n",
    "import matplotlib.pyplot as plt\n",
    "from sklearn.metrics import plot_confusion_matrix\n"
   ]
  },
  {
   "cell_type": "markdown",
   "metadata": {},
   "source": [
    "# Đọc dataset và những dữ liệu cần thiết (stopword, thư viện java)"
   ]
  },
  {
   "cell_type": "code",
   "execution_count": 4,
   "metadata": {
    "id": "sgsItmo4fz8r"
   },
   "outputs": [],
   "source": [
    "data=pd.read_csv(\"vn_news_223_tdlfr.csv\")\n",
    "data.head()\n",
    "#stopword\n",
    "f = open('stopwords.txt', 'r', encoding='UTF-8')\n",
    "stopwords = f.read().split('\\n')\n",
    "#java library\n",
    "annotator = VnCoreNLP(\"VnCoreNLP-1.1.1.jar\", annotators=\"wseg,pos,ner,parse\", max_heap_size='-Xmx2g')"
   ]
  },
  {
   "cell_type": "markdown",
   "metadata": {},
   "source": [
    "# Tiền xử lý dữ liệu (Data preprocessing)\n",
    "## 1. Xử lý noise\n",
    "Các noise trong văn bản bao gồm các link, dấu xuống dòng, các kí tự đặc biệt, viết hoa sẽ được xử lý"
   ]
  },
  {
   "cell_type": "code",
   "execution_count": 5,
   "metadata": {
    "id": "-esfhqVSf3QP"
   },
   "outputs": [
    {
     "data": {
      "text/plain": [
       "'thủ tướng abe cúi đầu xin lỗi vì hành động phi thể thao của tuyển nhật theo sankei sports sáng nay thủ tướng nhật bản shinzo abe công khai gửi lời xin lỗi tới nhật hoàng và toàn bộ người dân vì tinh thần thi đấu phi thể thao của đội tuyển nhật tại world cup 2018  tối qua sau lượt trận cuối vòng bảng world cup 2018 nhật bản có cùng chỉ số phụ như senegal đội bị loại sau khi thua colombia nhưng nhật bản vào vòng sau nhờ chỉ số fairplay vì nhận ít thẻ phạt hơn thủ tướng nhật bản shinzo abe cúi đầu xin lỗi  với tinh thần của những võ sĩ đạo samurai nhưng đội tuyển nhật bản đã có những hành động thiếu tinh thần thượng võ trong thi đấu tại world cup để lại nhiều chỉ trích và bất bình cho toàn dân làm mất hình ảnh kiên cường của người dân nhật bản trên đấu trường quốc tế là người đứng đầu tôi xin thành thật nhận trách nhiệm và gửi lời xin lỗi sâu sắc tới nhân dân ông abe cúi đầu nhận trách nhiệm về mình người nhật bản nổi tiếng về tinh thần trách nhiệm và chất võ sĩ đạo đó là lý do đội tuyển áo xanh được mệnh danh samurai xanh tuy nhiên nhật bản sau đó nhận chỉ trích dữ dội của người hâm mộ bóng đá vì lối chơi bóng tiêu cực cố tình câu giờ để dành tấm vé đi tiếp  cụ thể những phút cuối trận cuối vòng bảng gặp ba lan do biết ở trận cùng giờ colombia cũng đang thắng senegal với tỷ số 10 nên dù có đang bị dẫn trước với tỉ số tương tự các cầu thủ nhật bản cũng không hề muốn gỡ hòa các cầu thủ nhật vui vẻ sau trận thua ba lan 01 có vé vào vòng 16 đội  tại world cup 2018 fifa sẽ tính điểm fair play theo quy định 1 thẻ vàng 1 điểm 2 thẻ vàng thành thẻ đỏ 3 điểm thẻ đỏ trực tiếp 4 điểm nhật có 4 thẻ vàng còn senegal có đến 6  chính vì sợ lãnh thêm thẻ vàng nên nhật đã giết chết trận đấu trong những phút cuối họ liên tục chuyền bóng qua lại ở phần sân nhà thậm chí trong khoảng 5 phút cuối cầu thủ nhật bản còn không đưa bóng sang phần sân đối phương bất chấp sự la ó huýt sáo của các cđv trên sân điều này khiến thầy trò hlv akira nishino bị dư luận chỉ trích  với kết quả trên nhật bản và colombia là hai đội đi tiếp của bảng h ở vòng loại trực tiếp nhật bản sẽ phải đối đầu với đối thủ cực mạnh là đt bỉ trong khi đó đội cùng đi tiếp với nhật là colombia sẽ gặp đt anh '"
      ]
     },
     "execution_count": 5,
     "metadata": {},
     "output_type": "execute_result"
    }
   ],
   "source": [
    "data[\"text\"] = data[\"text\"].str.lower()\n",
    "data['text'] = data['text'].apply(lambda x: re.sub(r'http\\S+', '', x))\n",
    "data['text'] = data['text'].apply(lambda x: x.replace('\\n',' '))\n",
    "data['text'] = data['text'].apply(lambda x: re.sub('[^aàảãáạăằẳẵắặâầẩẫấậ b c dđeèẻẽéẹêềểễếệ f g hiìỉĩíịjklmnoòỏõóọôồổỗốộơờởỡớợpqrstu ùủũúụưừửữứựvwxyỳỷỹýỵz +[0-9]+', '', x))\n",
    "data.iloc[0,0]"
   ]
  },
  {
   "cell_type": "code",
   "execution_count": 6,
   "metadata": {
    "id": "m3Uf0JJFf8ml"
   },
   "outputs": [],
   "source": [
    "def reduce_dim(x):\n",
    "    return x[0]\n",
    "#data['text']=data['text'].apply(reduce_dim)"
   ]
  },
  {
   "cell_type": "code",
   "execution_count": 7,
   "metadata": {},
   "outputs": [
    {
     "data": {
      "text/plain": [
       "0      [thủ_tướng, abe, cúi, đầu, xin_lỗi, vì, hành_đ...\n",
       "1      [thủ_tướng, nhật, cúi, đầu, xin_lỗi, vì, tinh_...\n",
       "2      [choáng, cơ_trưởng, đeo, khăn_quàng, quẩy, ban...\n",
       "3      [chưa, bao_giờ, nhạc, kpop, lại, dễ, hát, đến,...\n",
       "4      [đại_học, hutech, sẽ, áp_dụng, cải_cách, tiếq,...\n",
       "                             ...                        \n",
       "218    [siêu, máy_bay, a350, sẽ, chở, cđv, việt_nam, ...\n",
       "219    [thưởng, 20000, usd, cho, đội_tuyển, cờ_vua, v...\n",
       "220    [trường_sơn, giành, hcv, tại, giải, cờ_vua, đồ...\n",
       "221    [chuyện, về, chàng, sinh_viên, luật, kiện_tướn...\n",
       "222    [tiền_đạo, malaysia, tôi, đã, có, cách, vượt, ...\n",
       "Name: text, Length: 223, dtype: object"
      ]
     },
     "execution_count": 7,
     "metadata": {},
     "output_type": "execute_result"
    }
   ],
   "source": [
    "def TokenNize(s):\n",
    "    return s.apply(annotator.tokenize).apply(reduce_dim)\n",
    "#TokenNize(data['text'])"
   ]
  },
  {
   "cell_type": "code",
   "execution_count": 8,
   "metadata": {
    "id": "yUIhl-gaf-Zx"
   },
   "outputs": [],
   "source": [
    "def remove_stopword(list_word):\n",
    "    clean_list = []\n",
    "    for i in range(len(list_word)):\n",
    "        temp=\"\"\n",
    "        temp1=\"\"\n",
    "        if i > 0 and i < (len(list_word)-1):\n",
    "            temp = str(list_word[i]) + \" \" + str(list_word[i+1])\n",
    "            temp1 = str(list_word[i-1]) + \" \" + str(list_word[i])\n",
    "        if list_word[i] not in stopwords and temp not in stopwords and temp1 not in stopwords:\n",
    "            clean_list.append(list_word[i])\n",
    "    return clean_list\n",
    "#data['text'] = data['text'].apply(lambda x: remove_stopword(x))"
   ]
  },
  {
   "cell_type": "code",
   "execution_count": 9,
   "metadata": {},
   "outputs": [],
   "source": [
    "def Preprocess(s):\n",
    "    return TokenNize(s).apply(remove_stopword)"
   ]
  },
  {
   "cell_type": "code",
   "execution_count": 10,
   "metadata": {},
   "outputs": [],
   "source": [
    "data['clean_text'] = Preprocess(data['text'])"
   ]
  },
  {
   "cell_type": "code",
   "execution_count": 15,
   "metadata": {},
   "outputs": [
    {
     "data": {
      "text/plain": [
       "0      thủ_tướng abe cúi đầu xin_lỗi hành_động phi th...\n",
       "1      thủ_tướng nhật cúi đầu xin_lỗi tinh_thần phi t...\n",
       "2      choáng cơ_trưởng đeo khăn_quàng quẩy banh sân_...\n",
       "3      bao_giờ nhạc kpop hát giáo_sư nguyễn_lân dũng ...\n",
       "4      đại_học hutech áp_dụng cải_cách tiếq việt năm_...\n",
       "                             ...                        \n",
       "218    siêu máy_bay a350 chở cđv việt_nam đi malaysia...\n",
       "219    thưởng 20000 usd đội_tuyển cờ_vua việt_nam oly...\n",
       "220    trường_sơn giành hcv giải cờ_vua đồng_đội thế_...\n",
       "221    chàng sinh_viên luật kiện_tướng lê_tuấn minh h...\n",
       "222    tiền_đạo malaysia hàng thủ đội_tuyển việt_nam ...\n",
       "Name: text, Length: 223, dtype: object"
      ]
     },
     "execution_count": 15,
     "metadata": {},
     "output_type": "execute_result"
    }
   ],
   "source": [
    "class PreProcess:\n",
    "    def fit():\n",
    "        pass\n",
    "    def transform(self,X_df):\n",
    "        return Preprocess(X_df['text']).apply(lambda x:\" \".join(x))\n",
    "prep = PreProcess()\n",
    "prep.transform(data)\n",
    "#data"
   ]
  },
  {
   "cell_type": "markdown",
   "metadata": {},
   "source": [
    "# Xây dựng mô hình"
   ]
  },
  {
   "cell_type": "markdown",
   "metadata": {},
   "source": [
    "Bọn em sẽ dùng phương thức CountVectorizer để vector hóa văn bản. Vì vậy, bọn em sẽ gộp token sau khi được làm sạch lại thành 1 văn bản để có thể sử dụng CountVectorizer()."
   ]
  },
  {
   "cell_type": "code",
   "execution_count": 9,
   "metadata": {},
   "outputs": [],
   "source": [
    "data['joined_clean_text'] = data['clean_text'].apply(lambda x:\" \".join(x))"
   ]
  },
  {
   "cell_type": "markdown",
   "metadata": {},
   "source": [
    "Vì đây là mô hình dự đoán dựa trên text nên bọn em sẽ chỉ xét cột `'joined_clean_text'` tức cột text sau khi qua nhiều bước làm sạch và xử lý (bỏ qua cột `domain`) làm tập X và cột `'label'` làm tập y.  \n",
    "Bọn em sẽ chia tập train và validation ra theo tỉ lệ 7/3."
   ]
  },
  {
   "cell_type": "code",
   "execution_count": 10,
   "metadata": {},
   "outputs": [],
   "source": [
    "X_train, X_val,y_train,y_val = train_test_split(data['text'],data['label'],random_state=212,test_size=0.3)"
   ]
  },
  {
   "cell_type": "markdown",
   "metadata": {},
   "source": [
    "Vì có rất nhiều mô hình nên bọn em sẽ thử tất cả những mô hình mà bọn em biết để tìm ra mô hình tối ưu nhất.  \n",
    "\n",
    "Ba mô hình thử nghiệm là : LogisticRegression, RandomForestClassifier, SVC."
   ]
  },
  {
   "cell_type": "code",
   "execution_count": 11,
   "metadata": {},
   "outputs": [],
   "source": [
    "models = [LogisticRegression(),\n",
    "sklearn.ensemble.RandomForestClassifier(),\n",
    "#sklearn.naive_bayes.GaussianNB()\n",
    "sklearn.svm.SVC()\n",
    "]\n",
    "acc_max = 0\n",
    "accs = []\n",
    "cm =[]\n",
    "pipelines = []\n",
    "for model in models:\n",
    "    full_pipeline = make_pipeline(\n",
    "    CountVectorizer(),\n",
    "    model\n",
    "    )\n",
    "    pipelines.append(full_pipeline)\n",
    "    full_pipeline.fit(X_train,y_train)\n",
    "    \n",
    "    y_pred = full_pipeline.predict(X_val)\n",
    "    accs.append(accuracy_score(y_val,y_pred)*100)\n",
    "    cm.append(confusion_matrix(y_val,y_pred))"
   ]
  },
  {
   "cell_type": "markdown",
   "metadata": {},
   "source": [
    "Mô hình có độ chính xác cao nhất cùng với độ chính xác của mô hình đó là :"
   ]
  },
  {
   "cell_type": "markdown",
   "metadata": {},
   "source": [
    "So sánh độ chính xác giữa các mô hình với nhau, ta thấy không có chênh lệch quá lớn"
   ]
  },
  {
   "cell_type": "code",
   "execution_count": 12,
   "metadata": {},
   "outputs": [
    {
     "name": "stdout",
     "output_type": "stream",
     "text": [
      "                              val\n",
      "model                            \n",
      "LogisticRegression      92.537313\n",
      "RandomForestClassifier  85.074627\n",
      "SVC                     85.074627\n"
     ]
    },
    {
     "data": {
      "image/png": "[encoded data removed]",
      "text/plain": [
       "<Figure size 432x288 with 1 Axes>"
      ]
     },
     "metadata": {
      "needs_background": "light"
     },
     "output_type": "display_data"
    }
   ],
   "source": [
    "model_name = [type(x).__name__ for x in models]\n",
    "plot_df = pd.DataFrame({'model':model_name,'val':accs}).set_index('model')\n",
    "print(plot_df)\n",
    "plot_df.plot.barh();"
   ]
  },
  {
   "cell_type": "markdown",
   "metadata": {},
   "source": [
    "Phân tích ma trận lỗi của mô hình tối ưu nhất"
   ]
  },
  {
   "cell_type": "code",
   "execution_count": 13,
   "metadata": {},
   "outputs": [
    {
     "data": {
      "image/png": "[encoded data removed]",
      "text/plain": [
       "<Figure size 432x288 with 2 Axes>"
      ]
     },
     "metadata": {
      "needs_background": "light"
     },
     "output_type": "display_data"
    }
   ],
   "source": [
    "seaborn.heatmap(cm[accs.index(max(accs))]/len(y_val)*100,annot=True,cmap='Blues');"
   ]
  },
  {
   "cell_type": "markdown",
   "metadata": {},
   "source": [
    "Mô hình với độ chính xác cao nhất là :"
   ]
  },
  {
   "cell_type": "code",
   "execution_count": 14,
   "metadata": {},
   "outputs": [
    {
     "data": {
      "text/plain": [
       "(LogisticRegression(), 92.53731343283582)"
      ]
     },
     "execution_count": 14,
     "metadata": {},
     "output_type": "execute_result"
    }
   ],
   "source": [
    "best_model = models[accs.index(max(accs))]\n",
    "best_model, max(accs)"
   ]
  },
  {
   "cell_type": "markdown",
   "metadata": {},
   "source": [
    "# Pipeline cho việc deploy mô hình"
   ]
  },
  {
   "cell_type": "markdown",
   "metadata": {},
   "source": [
    "Huấn luyện cho từng mô hình với toàn bộ tập data"
   ]
  },
  {
   "cell_type": "code",
   "execution_count": 15,
   "metadata": {},
   "outputs": [],
   "source": [
    "models = ['LogisticRegression','RandomForestClassifier', 'SVC']\n",
    "for i in range(len(pipelines)):\n",
    "    pipelines[i].fit(data['joined_clean_text'],data['label'])\n",
    "    #save model\n",
    "    with open(models[i] + '.pkl','wb') as f:\n",
    "        pickle.dump(pipelines[i],f)"
   ]
  },
  {
   "cell_type": "markdown",
   "metadata": {},
   "source": [
    "Demo pipeline cho bộ phận deploy mô hình"
   ]
  },
  {
   "cell_type": "code",
   "execution_count": 17,
   "metadata": {},
   "outputs": [
    {
     "name": "stdout",
     "output_type": "stream",
     "text": [
      "[1]\n",
      "[1]\n",
      "[1]\n"
     ]
    }
   ],
   "source": [
    "# muốn dự đoán văn bản gì thì dùng cú pháp như sau :\n",
    "text_test = \"Thủ tướng Abe cúi đầu xin lỗi vì hành động phi thể thao của tuyển Nhật Theo Sankei Sports, sáng nay Thủ tướng Nhật Bản Shinzo Abe công khai gửi lời xin lỗi tới Nhật hoàng và toàn bộ người dân vì tinh thần thi đấu phi thể thao của đội tuyển Nhật tại World Cup 2018.Tối qua, sau lượt trận cuối vòng bảng World Cup 2018, Nhật Bản có cùng chỉ số phụ như Senegal, đội bị loại sau khi thua Colombia. Nhưng Nhật Bản vào vòng sau nhờ chỉ số fair-play vì nhận ít thẻ phạt hơn. Thủ tướng Nhật Bản Shinzo Abe cúi đầu xin lỗi.“Với tinh thần của những võ sĩ đạo Samurai, nhưng đội tuyển Nhật Bản đã có những hành động thiếu tinh thần thượng võ trong thi đấu tại World Cup, để lại nhiều chỉ trích và bất bình cho toàn dân, làm mất hình ảnh kiên cường của người dân Nhật Bản trên đấu trường quốc tế. Là người đứng đầu, tôi xin thành thật nhận trách nhiệm và gửi lời xin lỗi sâu sắc tới nhân dân.”, ông Abe cúi đầu nhận trách nhiệm về mình. Người Nhật Bản nổi tiếng về tinh thần, trách nhiệm và chất võ sĩ đạo. Đó là lý do đội tuyển áo xanh được mệnh danh “Samurai xanh”. Tuy nhiên, Nhật Bản sau đó nhận chỉ trích dữ dội của người hâm mộ bóng đá vì lối chơi bóng tiêu cực, cố tình câu giờ để dành tấm vé đi tiếp. Cụ thể, những phút cuối trận cuối vòng bảng gặp Ba Lan, do biết ở trận cùng giờ, Colombia cũng đang thắng Senegal với tỷ số 1-0 nên dù có đang bị dẫn trước với tỉ số tương tự, các cầu thủ Nhật Bản cũng không hề muốn gỡ hòa. Các cầu thủ Nhật vui vẻ sau trận thua Ba Lan 0-1, có vé vào vòng 16 đội. Tại World Cup 2018, FIFA sẽ tính điểm fair play, theo quy định 1 thẻ vàng -1 điểm; 2 thẻ vàng thành thẻ đỏ -3 điểm; thẻ đỏ trực tiếp -4 điểm. Nhật có 4 thẻ vàng còn Senegal có đến 6.Chính vì sợ lãnh thêm thẻ vàng nên Nhật đã giết chết trận đấu trong những phút cuối. Họ liên tục chuyền bóng qua lại ở phần sân nhà. Thậm chí trong khoảng 5 phút cuối, cầu thủ Nhật Bản còn không đưa bóng sang phần sân đối phương, bất chấp sự la ó, huýt sáo của các CĐV trên sân. Điều này khiến thầy trò HLV Akira Nishino bị dư luận chỉ trích.Với kết quả trên, Nhật Bản và Colombia là hai đội đi tiếp của bảng H. Ở vòng loại trực tiếp, Nhật Bản sẽ phải đối đầu với đối thủ cực mạnh là ĐT Bỉ. Trong khi đó, đội cùng đi tiếp với Nhật là Colombia sẽ gặp ĐT Anh.\"\n",
    "# text_test = 'Gia Thuận'\n",
    "for pipeline in pipelines:\n",
    "    print(pipeline.predict([text_test])) #truyền vào predict phải là một list/series/array\n",
    "#dáp án cũng sẽ là 1 array"
   ]
  },
  {
   "cell_type": "markdown",
   "metadata": {},
   "source": [
    "Ba mô hình đều cho ra kết quả test là tin giả ^^"
   ]
  }
 ],
 "metadata": {
  "colab": {
   "collapsed_sections": [],
   "include_colab_link": true,
   "name": "nmkhdl.ipynb",
   "provenance": []
  },
  "kernelspec": {
   "display_name": "Python 3 (ipykernel)",
   "language": "python",
   "name": "python3"
  },
  "language_info": {
   "codemirror_mode": {
    "name": "ipython",
    "version": 3
   },
   "file_extension": ".py",
   "mimetype": "text/x-python",
   "name": "python",
   "nbconvert_exporter": "python",
   "pygments_lexer": "ipython3",
   "version": "3.8.8"
  },
  "toc": {
   "base_numbering": 1,
   "nav_menu": {},
   "number_sections": true,
   "sideBar": true,
   "skip_h1_title": false,
   "title_cell": "Table of Contents",
   "title_sidebar": "Contents",
   "toc_cell": false,
   "toc_position": {},
   "toc_section_display": true,
   "toc_window_display": false
  }
 },
 "nbformat": 4,
 "nbformat_minor": 1
}
